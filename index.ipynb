{
 "cells": [
  {
   "cell_type": "markdown",
   "metadata": {},
   "source": [
    "# Chameleons\n",
    "In einem Zoo leben sieben Chamäleons in einem grossen Terrarium. Und zwar zwei rote, vier gelbe und ein violettes.\n",
    "Diese Chamäleons haben eine spezielle Eigenschaft: Immer, wenn sich zwei Chamäleons verschiedener Farbe begegnen, nehmen beide die dritte Farbe an.\n",
    "Wenn sich also ein rotes und ein gelbes Chamäleon begegnen, werden beide violett.\n",
    "\n",
    "Frage: Kann es passieren, dass irgendwann alle Chamäleons die gleiche Farbe haben?\n",
    "\n",
    "- Nein, das kann nicht passieren.\n",
    "- Ja, das kann sein. Alle Chamäleons werden rot.\n",
    "- Ja, das kann sein. Alle Chamäleons werden gelb.\n",
    "- Ja, das kann sein. Alle Chamäleons werden violett."
   ]
  },
  {
   "cell_type": "markdown",
   "metadata": {},
   "source": [
    "## Mapping to Graph\n",
    "The above question is represented as graph and solved with `networkx`\n",
    "\n",
    "### States are Nodes\n",
    "Are represented as tripples $(\\#red, \\#yellow, \\#purple)$ e.g. $(2, 4, 1)$\n",
    "\n",
    "### Dynamics generates Edges\n",
    "On tripples with all entries nonzero, transitions to another state are possible by adding $(-1, -1, 2)$ or a permutation thereof.\n",
    "In tripples with one zero entry only one transition is possible, e.g. $(3, 0, 4) + (-1, 2, -1) \\mapsto (2, 2, 3)$.\n",
    "Tripples with two zeros are nonochrome and have no transitions"
   ]
  },
  {
   "cell_type": "code",
   "execution_count": 2,
   "metadata": {},
   "outputs": [],
   "source": [
    "import networkx as nx\n",
    "import matplotlib.pyplot as plt\n",
    "\n",
    "\n",
    "def build_graph(n_cham):\n",
    "    \"Build a DiGrapf for n_cham chameleons\"\n",
    "    graph = nx.DiGraph()\n",
    "    \n",
    "    # nodes:\n",
    "    graph.add_nodes_from((i, j, n_cham-i-j) for i in range(n_cham+1) for j in range(n_cham+1-i))\n",
    "    # edges:\n",
    "    for i, j, k in graph.nodes:\n",
    "        if i > 0 and j > 0:\n",
    "            graph.add_edge((i,j,k), (i-1,j-1,k+2))\n",
    "        if i > 0 and k > 0:\n",
    "            graph.add_edge((i,j,k), (i-1,j+2,k-1))\n",
    "        if j > 0 and k > 0:\n",
    "            graph.add_edge((i,j,k), (i+2,j-1,k-1))\n",
    "    return graph"
   ]
  },
  {
   "cell_type": "code",
   "execution_count": 6,
   "metadata": {},
   "outputs": [
    {
     "data": {
      "text/plain": [
       "3"
      ]
     },
     "execution_count": 6,
     "metadata": {},
     "output_type": "execute_result"
    },
    {
     "data": {
      "image/png": "[encoded data removed]",
      "text/plain": [
       "<Figure size 640x480 with 1 Axes>"
      ]
     },
     "metadata": {},
     "output_type": "display_data"
    }
   ],
   "source": [
    "def draw_cham(graph, init=None):\n",
    "    \"Draw the chameleon dynamics graph\"\n",
    "    pos = nx.spring_layout(graph.to_undirected(), seed=99)\n",
    "    options = {'node_size': 20}\n",
    "\n",
    "    # nodes:\n",
    "    #nx.draw_networkx_nodes(graph, pos, **options)\n",
    "    for i,j in [\n",
    "        ((n_cham,0,0), 'red'),\n",
    "        ((0,n_cham,0), 'yellow'),\n",
    "        ((0,0,n_cham), 'purple')\n",
    "        ]:\n",
    "        nx.draw_networkx_nodes(graph, pos, nodelist=[i], node_color=j, **options)\n",
    "\n",
    "    # edges:\n",
    "    nx.draw_networkx_edges(graph.to_undirected(), pos)\n",
    "\n",
    "    if init:\n",
    "        nx.draw_networkx_nodes(graph, pos, nodelist=[init], node_color='black', **options)\n",
    "\n",
    "\n",
    "# example:\n",
    "n_cham = 7\n",
    "init7 = (2,4,1)\n",
    "\n",
    "graph7 = build_graph(n_cham)\n",
    "draw_cham(graph7, init7)\n",
    "nx.number_weakly_connected_components(graph7)"
   ]
  },
  {
   "cell_type": "code",
   "execution_count": null,
   "metadata": {},
   "outputs": [],
   "source": []
  }
 ],
 "metadata": {
  "kernelspec": {
   "display_name": "Python 3",
   "language": "python",
   "name": "python3"
  },
  "language_info": {
   "codemirror_mode": {
    "name": "ipython",
    "version": 3
   },
   "file_extension": ".py",
   "mimetype": "text/x-python",
   "name": "python",
   "nbconvert_exporter": "python",
   "pygments_lexer": "ipython3",
   "version": "3.10.13"
  }
 },
 "nbformat": 4,
 "nbformat_minor": 2
}
